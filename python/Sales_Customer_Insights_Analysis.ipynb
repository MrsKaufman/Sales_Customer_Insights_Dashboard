{
 "cells": [
  {
   "cell_type": "markdown",
   "id": "47b95e57",
   "metadata": {},
   "source": [
    "# 📊 Sales & Customer Insights Analysis\n",
    "\n",
    "This notebook explores a sample e-commerce dataset using Python."
   ]
  },
  {
   "cell_type": "code",
   "execution_count": null,
   "id": "5f0844df",
   "metadata": {},
   "outputs": [],
   "source": [
    "# 📥 Load Libraries and Dataset\n",
    "import pandas as pd\n",
    "import matplotlib.pyplot as plt\n",
    "import seaborn as sns\n",
    "\n",
    "# Load dataset\n",
    "df = pd.read_csv(\"data/sample_ecommerce_data.csv\")\n",
    "df[\"Order Date\"] = pd.to_datetime(df[\"Order Date\"])\n",
    "df.head()"
   ]
  },
  {
   "cell_type": "markdown",
   "id": "d64a8e7d",
   "metadata": {},
   "source": [
    "## 🔍 Data Overview and Cleaning"
   ]
  },
  {
   "cell_type": "code",
   "execution_count": null,
   "id": "7326abd1",
   "metadata": {},
   "outputs": [],
   "source": [
    "# Check for missing values and data types\n",
    "df.info()\n",
    "df.isnull().sum()"
   ]
  },
  {
   "cell_type": "markdown",
   "id": "1d54e3f1",
   "metadata": {},
   "source": [
    "## 📈 Monthly Revenue Trend"
   ]
  },
  {
   "cell_type": "code",
   "execution_count": null,
   "id": "3965f1ac",
   "metadata": {},
   "outputs": [],
   "source": [
    "# Create Month column\n",
    "df[\"Month\"] = df[\"Order Date\"].dt.to_period(\"M\")\n",
    "monthly_revenue = df.groupby(\"Month\")[\"Sales Amount\"].sum().reset_index()\n",
    "monthly_revenue[\"Month\"] = monthly_revenue[\"Month\"].astype(str)\n",
    "\n",
    "# Plot\n",
    "plt.figure(figsize=(10,5))\n",
    "sns.lineplot(data=monthly_revenue, x=\"Month\", y=\"Sales Amount\", marker=\"o\")\n",
    "plt.title(\"Monthly Revenue\")\n",
    "plt.xticks(rotation=45)\n",
    "plt.tight_layout()\n",
    "plt.show()"
   ]
  },
  {
   "cell_type": "markdown",
   "id": "dd337e41",
   "metadata": {},
   "source": [
    "## 🏆 Top 10 Products by Total Sales"
   ]
  },
  {
   "cell_type": "code",
   "execution_count": null,
   "id": "6a78dbbf",
   "metadata": {},
   "outputs": [],
   "source": [
    "top_products = df.groupby(\"Product\")[\"Sales Amount\"].sum().sort_values(ascending=False).head(10)\n",
    "\n",
    "# Plot\n",
    "plt.figure(figsize=(10,5))\n",
    "sns.barplot(x=top_products.values, y=top_products.index)\n",
    "plt.title(\"Top 10 Products by Total Sales\")\n",
    "plt.xlabel(\"Total Sales\")\n",
    "plt.tight_layout()\n",
    "plt.show()"
   ]
  },
  {
   "cell_type": "markdown",
   "id": "3c4e30aa",
   "metadata": {},
   "source": [
    "## 🌍 Revenue by Region"
   ]
  },
  {
   "cell_type": "code",
   "execution_count": null,
   "id": "6df4da92",
   "metadata": {},
   "outputs": [],
   "source": [
    "region_revenue = df.groupby(\"Region\")[\"Sales Amount\"].sum().reset_index()\n",
    "\n",
    "# Plot\n",
    "plt.figure(figsize=(6,4))\n",
    "sns.barplot(data=region_revenue, x=\"Region\", y=\"Sales Amount\")\n",
    "plt.title(\"Revenue by Region\")\n",
    "plt.tight_layout()\n",
    "plt.show()"
   ]
  },
  {
   "cell_type": "markdown",
   "id": "19a48d11",
   "metadata": {},
   "source": [
    "## 💰 Average Order Value"
   ]
  },
  {
   "cell_type": "code",
   "execution_count": null,
   "id": "907d73ca",
   "metadata": {},
   "outputs": [],
   "source": [
    "aov = df[\"Sales Amount\"].mean()\n",
    "print(f\"Average Order Value: ${aov:.2f}\")"
   ]
  },
  {
   "cell_type": "markdown",
   "id": "e08a0103",
   "metadata": {},
   "source": [
    "## 🔁 Repeat Customer Rate"
   ]
  },
  {
   "cell_type": "code",
   "execution_count": null,
   "id": "1e989cc3",
   "metadata": {},
   "outputs": [],
   "source": [
    "order_counts = df.groupby(\"Customer ID\").size()\n",
    "repeat_customers = order_counts[order_counts > 1].count()\n",
    "total_customers = order_counts.count()\n",
    "repeat_rate = (repeat_customers / total_customers) * 100\n",
    "\n",
    "print(f\"Repeat Customer Rate: {repeat_rate:.2f}%\")"
   ]
  }
 ],
 "metadata": {},
 "nbformat": 4,
 "nbformat_minor": 5
}
